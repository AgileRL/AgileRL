{
 "cells": [
  {
   "cell_type": "code",
   "execution_count": 1,
   "metadata": {},
   "outputs": [
    {
     "name": "stderr",
     "output_type": "stream",
     "text": [
      "/home/jaime/.pyenv/versions/3.11.5/envs/agilerl/lib/python3.11/site-packages/tqdm/auto.py:21: TqdmWarning: IProgress not found. Please update jupyter and ipywidgets. See https://ipywidgets.readthedocs.io/en/stable/user_install.html\n",
      "  from .autonotebook import tqdm as notebook_tqdm\n"
     ]
    }
   ],
   "source": [
    "from gymnasium import spaces\n",
    "import yaml\n",
    "import torch\n",
    "import steelix\n",
    "\n",
    "from agilerl.modules.configs import MlpNetConfig, CnnNetConfig, MultiInputNetConfig\n",
    "from agilerl.networks.q_networks import QNetwork, RainbowQNetwork\n",
    "from agilerl.networks.value_functions import ValueFunction\n",
    "from agilerl.networks.actors import StochasticActor, DeterministicActor\n",
    "\n",
    "from agilerl.algorithms.dqn import DQN\n",
    "from agilerl.utils.utils import create_population, make_vect_envs"
   ]
  },
  {
   "cell_type": "markdown",
   "metadata": {},
   "source": [
    "### QNetwork"
   ]
  },
  {
   "cell_type": "code",
   "execution_count": null,
   "metadata": {},
   "outputs": [],
   "source": [
    "from tests.helper_functions import generate_dict_or_tuple_space\n",
    "from agilerl.utils.evolvable_networks import is_image_space\n",
    "\n",
    "img_space = spaces.Box(low=0, high=255, shape=(4, 84, 84))\n",
    "vec_space = spaces.Box(low=-1, high=1, shape=(4,), dtype='float32')\n",
    "dict_space = spaces.Dict({'img': img_space, 'vec': vec_space})\n",
    "device = torch.device('cuda' if torch.cuda.is_available() else 'cpu')\n",
    "\n",
    "img_config = CnnNetConfig(\n",
    "    channel_size=[16],\n",
    "    kernel_size=[4],\n",
    "    stride_size=[1],\n",
    ")\n",
    "vec_config = MlpNetConfig(\n",
    "    hidden_size=[64],\n",
    ")\n",
    "multi_input_config = MultiInputNetConfig(\n",
    "    channel_size=[8],\n",
    "    kernel_size=[2],\n",
    "    stride_size=[1],\n",
    "    hidden_size=[32],\n",
    "    vector_space_mlp=False\n",
    ")\n",
    "\n",
    "actor = StochasticActor(\n",
    "    observation_space=env.single_observation_space,\n",
    "    action_space=spaces.Discrete(18),\n",
    "    encoder_config=multi_input_config,\n",
    "    # support=torch.linspace(-10, 10, 51),\n",
    "    latent_dim=64,\n",
    "    device=device\n",
    ")"
   ]
  },
  {
   "cell_type": "code",
   "execution_count": null,
   "metadata": {},
   "outputs": [],
   "source": [
    "actor"
   ]
  },
  {
   "cell_type": "code",
   "execution_count": 19,
   "metadata": {},
   "outputs": [],
   "source": [
    "actor.filter_mutation_methods('kernel')"
   ]
  },
  {
   "cell_type": "code",
   "execution_count": null,
   "metadata": {},
   "outputs": [],
   "source": [
    "actor.mutation_methods"
   ]
  },
  {
   "cell_type": "code",
   "execution_count": 3,
   "metadata": {},
   "outputs": [],
   "source": [
    "pop = DQN.population(4, observation_space=img_space, action_space=spaces.Discrete(4))"
   ]
  },
  {
   "cell_type": "code",
   "execution_count": 3,
   "metadata": {},
   "outputs": [],
   "source": [
    "from agilerl.modules.cnn import EvolvableCNN\n",
    "from agilerl.hpo.mutation import Mutations"
   ]
  },
  {
   "cell_type": "code",
   "execution_count": 4,
   "metadata": {},
   "outputs": [],
   "source": [
    "from accelerate import Accelerator\n",
    "\n",
    "with open('configs/training/multi_input.yaml') as f:\n",
    "    config = yaml.safe_load(f)\n",
    "\n",
    "vector_actions = spaces.Box(low=-1, high=1, shape=(4,), dtype='float32')\n",
    "discrete_actions = spaces.Discrete(4)\n",
    "device = torch.device('cuda' if torch.cuda.is_available() else 'cpu')\n",
    "\n",
    "# accelerator = Accelerator()\n",
    "INIT_HP = config[\"INIT_HP\"]\n",
    "MUTATION_PARAMS = config[\"MUTATION_PARAMS\"]\n",
    "INIT_HP['AGENT_IDS'] = [f'agent_{i}' for i in range(4)]\n",
    "n_agents = 4\n",
    "agent_pop = create_population(\n",
    "    algo=INIT_HP[\"ALGO\"],\n",
    "    observation_space=env.single_observation_space,\n",
    "    action_space=env.single_action_space, \n",
    "    net_config=config[\"NET_CONFIG\"],\n",
    "    INIT_HP=INIT_HP,\n",
    "    population_size=INIT_HP[\"POP_SIZE\"],\n",
    "    num_envs=INIT_HP[\"NUM_ENVS\"],\n",
    "    device=device,\n",
    "    # accelerator=accelerator\n",
    ")"
   ]
  },
  {
   "cell_type": "code",
   "execution_count": null,
   "metadata": {},
   "outputs": [],
   "source": [
    "ind = agent_pop[0]\n",
    "ind.inspect_attributes(input_args_only=True)"
   ]
  },
  {
   "cell_type": "code",
   "execution_count": null,
   "metadata": {},
   "outputs": [],
   "source": [
    "ind = agent_pop[0]\n",
    "ind.optimizer"
   ]
  },
  {
   "cell_type": "code",
   "execution_count": 6,
   "metadata": {},
   "outputs": [
    {
     "name": "stdout",
     "output_type": "stream",
     "text": [
      "Applied mutation: encoder.feature_net.BatchFurnaceD.remove_channel\n",
      "Applied mutation: None\n",
      "Applied mutation: None\n",
      "Applied mutation: None\n"
     ]
    }
   ],
   "source": [
    "mutations = Mutations(\n",
    "    0,\n",
    "    1,\n",
    "    0.5,\n",
    "    0,\n",
    "    0,\n",
    "    0,\n",
    "    0.5,\n",
    "    agent_ids=INIT_HP['AGENT_IDS'],\n",
    "    device=device\n",
    ")\n",
    "new_population = [agent.clone(wrap=False) for agent in agent_pop]\n",
    "mutated_population = [\n",
    "    mutations.architecture_mutate(agent) for agent in new_population\n",
    "]"
   ]
  },
  {
   "cell_type": "code",
   "execution_count": 7,
   "metadata": {},
   "outputs": [
    {
     "data": {
      "text/plain": [
       "['head_net.add_layer',\n",
       " 'head_net.remove_layer',\n",
       " 'remove_latent_node',\n",
       " 'add_latent_node',\n",
       " 'encoder.remove_latent_node',\n",
       " 'encoder.add_latent_node',\n",
       " 'encoder.feature_net.BatchFurnaceA.add_channel',\n",
       " 'encoder.feature_net.BatchFurnaceA.change_kernel',\n",
       " 'encoder.feature_net.BatchFurnaceA.remove_channel',\n",
       " 'encoder.feature_net.BatchFurnaceB.add_channel',\n",
       " 'encoder.feature_net.BatchFurnaceB.change_kernel',\n",
       " 'encoder.feature_net.BatchFurnaceB.remove_channel',\n",
       " 'encoder.feature_net.BatchFurnaceC.add_channel',\n",
       " 'encoder.feature_net.BatchFurnaceC.change_kernel',\n",
       " 'encoder.feature_net.BatchFurnaceC.remove_channel',\n",
       " 'encoder.feature_net.BatchFurnaceD.add_channel',\n",
       " 'encoder.feature_net.BatchFurnaceD.change_kernel',\n",
       " 'encoder.feature_net.BatchFurnaceD.remove_channel',\n",
       " 'head_net.remove_node',\n",
       " 'head_net.add_node']"
      ]
     },
     "execution_count": 7,
     "metadata": {},
     "output_type": "execute_result"
    }
   ],
   "source": [
    "mutated_population[0].actor.mutation_methods"
   ]
  },
  {
   "cell_type": "code",
   "execution_count": 9,
   "metadata": {},
   "outputs": [
    {
     "name": "stdout",
     "output_type": "stream",
     "text": [
      "0.001\n",
      "2048\n",
      "128\n"
     ]
    }
   ],
   "source": [
    "ind = agent_pop[0]\n",
    "print(ind.lr)\n",
    "print(ind.learn_step)\n",
    "print(ind.batch_size)"
   ]
  }
 ],
 "metadata": {
  "kernelspec": {
   "display_name": "agilerl",
   "language": "python",
   "name": "python3"
  },
  "language_info": {
   "codemirror_mode": {
    "name": "ipython",
    "version": 3
   },
   "file_extension": ".py",
   "mimetype": "text/x-python",
   "name": "python",
   "nbconvert_exporter": "python",
   "pygments_lexer": "ipython3",
   "version": "3.11.5"
  }
 },
 "nbformat": 4,
 "nbformat_minor": 2
}
