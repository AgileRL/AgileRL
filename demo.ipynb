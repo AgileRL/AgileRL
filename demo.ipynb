{
 "cells": [
  {
   "cell_type": "code",
   "execution_count": 1,
   "metadata": {},
   "outputs": [
    {
     "name": "stderr",
     "output_type": "stream",
     "text": [
      "/home/jaimesabal/.pyenv/versions/agilerl/lib/python3.11/site-packages/tqdm/auto.py:21: TqdmWarning: IProgress not found. Please update jupyter and ipywidgets. See https://ipywidgets.readthedocs.io/en/stable/user_install.html\n",
      "  from .autonotebook import tqdm as notebook_tqdm\n"
     ]
    }
   ],
   "source": [
    "from gymnasium import spaces\n",
    "import yaml\n",
    "import torch\n",
    "\n",
    "from agilerl.modules.configs import MlpNetConfig, CnnNetConfig, MultiInputNetConfig\n",
    "from agilerl.networks.q_networks import QNetwork, RainbowQNetwork\n",
    "from agilerl.networks.value_functions import ValueFunction\n",
    "from agilerl.networks.actors import StochasticActor, DeterministicActor\n",
    "\n",
    "from agilerl.algorithms.dqn import DQN\n",
    "from agilerl.utils.utils import create_population"
   ]
  },
  {
   "cell_type": "markdown",
   "metadata": {},
   "source": [
    "### QNetwork"
   ]
  },
  {
   "cell_type": "code",
   "execution_count": 2,
   "metadata": {},
   "outputs": [],
   "source": [
    "from tests.helper_functions import generate_dict_or_tuple_space\n",
    "from agilerl.utils.evolvable_networks import is_image_space\n",
    "\n",
    "img_space = spaces.Box(low=0, high=255, shape=(4, 84, 84))\n",
    "vec_space = spaces.Box(low=-1, high=1, shape=(4,), dtype='float32')\n",
    "dict_space = spaces.Dict({'img': img_space, 'vec': vec_space})\n",
    "device = torch.device('cuda' if torch.cuda.is_available() else 'cpu')\n",
    "\n",
    "img_config = CnnNetConfig(\n",
    "    channel_size=[16],\n",
    "    kernel_size=[4],\n",
    "    stride_size=[1],\n",
    ")\n",
    "vec_config = MlpNetConfig(\n",
    "    hidden_size=[64],\n",
    ")\n",
    "multi_input_config = MultiInputNetConfig(\n",
    "    channel_size=[8, 8, 8],\n",
    "    kernel_size=[2, 2, 2],\n",
    "    stride_size=[2, 2, 2],\n",
    "    hidden_size=[32, 32, 32],\n",
    "    vector_space_mlp=False\n",
    ")\n",
    "\n",
    "actor = RainbowQNetwork(\n",
    "    observation_space=vec_space,\n",
    "    action_space=spaces.Discrete(4),\n",
    "    support=torch.linspace(-10, 10, 51),\n",
    "    latent_dim=64,\n",
    "    device=device\n",
    ")"
   ]
  },
  {
   "cell_type": "code",
   "execution_count": null,
   "metadata": {},
   "outputs": [],
   "source": [
    "from numbers import Number\n",
    "from dataclasses import dataclass, field\n",
    "from typing import Any, Dict, Optional\n",
    "\n",
    "@dataclass\n",
    "class RLHyperparameter:\n",
    "    min: float\n",
    "    max: float\n",
    "    shrink_factor: float = 0.8\n",
    "    grow_factor: float = 1.2\n",
    "    dtype: type = float\n",
    "    value: Optional[Number] = field(default=None, init=False)\n",
    "\n",
    "    def mutate(self) -> Number:\n",
    "        assert self.value is not None, \"Hyperparameter value is not set\"\n",
    "\n",
    "        # Equal probability of growing or shrinking \n",
    "        if torch.rand(1).item() < 0.5:\n",
    "            if self.value * self.shrink_factor > self.min:\n",
    "                self.value *= self.shrink_factor\n",
    "            else:\n",
    "                self.value = self.min\n",
    "        else:\n",
    "            if self.value * self.grow_factor < self.max:\n",
    "                self.value *= self.grow_factor\n",
    "            else:\n",
    "                self.value = self.max\n",
    "\n",
    "        return self.value\n",
    "\n",
    "class HyperparameterConfig:\n",
    "    \"\"\"Stores the RL hyperparameters that will be mutated during training. For each\n",
    "    hyperparameter, we store the name of the attribute where the hyperparameter is \n",
    "    stored, and the range of values that the hyperparameter can take.\"\"\"\n",
    "\n",
    "    def __init__(self, **kwargs: Dict[str, RLHyperparameter]):\n",
    "        self.config = kwargs\n",
    "        for key, value in kwargs.items():\n",
    "            setattr(self, key, value)\n",
    "    \n",
    "    def items(self) -> Dict[str, Any]:\n",
    "        return self.config.items()\n",
    "    \n",
    "\n",
    "HyperparameterConfig(lr=(1e-3, 1e-2), learn_step=(1000, 3000)).items()"
   ]
  },
  {
   "cell_type": "code",
   "execution_count": 3,
   "metadata": {},
   "outputs": [],
   "source": [
    "from agilerl.modules.cnn import EvolvableCNN\n",
    "from agilerl.hpo.mutation import Mutations"
   ]
  },
  {
   "cell_type": "code",
   "execution_count": 8,
   "metadata": {},
   "outputs": [],
   "source": [
    "from accelerate import Accelerator\n",
    "\n",
    "with open('configs/training/ppo.yaml') as f:\n",
    "    config = yaml.safe_load(f)\n",
    "\n",
    "vector_actions = spaces.Box(low=-1, high=1, shape=(4,), dtype='float32')\n",
    "discrete_actions = spaces.Discrete(4)\n",
    "\n",
    "# accelerator = Accelerator()\n",
    "INIT_HP = config[\"INIT_HP\"]\n",
    "INIT_HP['AGENT_IDS'] = [f'agent_{i}' for i in range(4)]\n",
    "n_agents = 4\n",
    "agent_pop = create_population(\n",
    "    algo=INIT_HP[\"ALGO\"],\n",
    "    observation_space=img_space,\n",
    "    action_space=discrete_actions,\n",
    "    net_config={'encoder_config': img_config},\n",
    "    INIT_HP=INIT_HP,\n",
    "    population_size=INIT_HP[\"POP_SIZE\"],\n",
    "    num_envs=INIT_HP[\"NUM_ENVS\"],\n",
    "    device=device,\n",
    "    # accelerator=accelerator\n",
    ")"
   ]
  },
  {
   "cell_type": "code",
   "execution_count": 9,
   "metadata": {},
   "outputs": [
    {
     "name": "stdout",
     "output_type": "stream",
     "text": [
      "0.001\n",
      "2048\n",
      "128\n"
     ]
    }
   ],
   "source": [
    "ind = agent_pop[0]\n",
    "print(ind.lr)\n",
    "print(ind.learn_step)\n",
    "print(ind.batch_size)"
   ]
  }
 ],
 "metadata": {
  "kernelspec": {
   "display_name": "agilerl",
   "language": "python",
   "name": "python3"
  },
  "language_info": {
   "codemirror_mode": {
    "name": "ipython",
    "version": 3
   },
   "file_extension": ".py",
   "mimetype": "text/x-python",
   "name": "python",
   "nbconvert_exporter": "python",
   "pygments_lexer": "ipython3",
   "version": "3.11.10"
  }
 },
 "nbformat": 4,
 "nbformat_minor": 2
}
