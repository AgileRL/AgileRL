{
 "cells": [
  {
   "cell_type": "code",
   "execution_count": 1,
   "metadata": {},
   "outputs": [
    {
     "name": "stderr",
     "output_type": "stream",
     "text": [
      "/home/jaimesabal/.pyenv/versions/agilerl/lib/python3.11/site-packages/tqdm/auto.py:21: TqdmWarning: IProgress not found. Please update jupyter and ipywidgets. See https://ipywidgets.readthedocs.io/en/stable/user_install.html\n",
      "  from .autonotebook import tqdm as notebook_tqdm\n"
     ]
    }
   ],
   "source": [
    "from gymnasium import spaces\n",
    "import yaml\n",
    "import torch\n",
    "\n",
    "from agilerl.modules.configs import MlpNetConfig, CnnNetConfig, MultiInputNetConfig\n",
    "from agilerl.networks.q_networks import QNetwork, RainbowQNetwork\n",
    "from agilerl.networks.value_functions import ValueFunction\n",
    "from agilerl.networks.actors import StochasticActor, DeterministicActor\n",
    "\n",
    "from agilerl.algorithms.dqn import DQN\n",
    "from agilerl.utils.utils import create_population"
   ]
  },
  {
   "cell_type": "markdown",
   "metadata": {},
   "source": [
    "### QNetwork"
   ]
  },
  {
   "cell_type": "code",
   "execution_count": 2,
   "metadata": {},
   "outputs": [],
   "source": [
    "from tests.helper_functions import generate_dict_or_tuple_space\n",
    "from agilerl.utils.evolvable_networks import is_image_space\n",
    "\n",
    "img_space = spaces.Box(low=0, high=255, shape=(4, 84, 84))\n",
    "vec_space = spaces.Box(low=-1, high=1, shape=(4,), dtype='float32')\n",
    "dict_space = spaces.Dict({'img': img_space, 'vec': vec_space})\n",
    "device = torch.device('cuda' if torch.cuda.is_available() else 'cpu')\n",
    "\n",
    "img_config = CnnNetConfig(\n",
    "    channel_size=[16],\n",
    "    kernel_size=[4],\n",
    "    stride_size=[1],\n",
    ")\n",
    "vec_config = MlpNetConfig(\n",
    "    hidden_size=[64],\n",
    ")\n",
    "multi_input_config = MultiInputNetConfig(\n",
    "    channel_size=[8, 8, 8],\n",
    "    kernel_size=[2, 2, 2],\n",
    "    stride_size=[2, 2, 2],\n",
    "    hidden_size=[32, 32, 32],\n",
    "    vector_space_mlp=False\n",
    ")\n",
    "\n",
    "actor = RainbowQNetwork(\n",
    "    observation_space=vec_space,\n",
    "    action_space=spaces.Discrete(4),\n",
    "    encoder_config=vec_config,\n",
    "    support=torch.linspace(-10, 10, 51),\n",
    "    latent_dim=64,\n",
    "    device=device\n",
    ")"
   ]
  },
  {
   "cell_type": "code",
   "execution_count": 3,
   "metadata": {},
   "outputs": [
    {
     "data": {
      "text/plain": [
       "StochasticActor(\n",
       "  (encoder): EvolvableMLP(\n",
       "    (model): Sequential(\n",
       "      (encoder_linear_layer_1): Linear(in_features=4, out_features=64, bias=True)\n",
       "      (encoder_layer_norm_1): LayerNorm((64,), eps=1e-05, elementwise_affine=True)\n",
       "      (encoder_activation_1): ReLU()\n",
       "      (encoder_linear_layer_output): Linear(in_features=64, out_features=64, bias=True)\n",
       "      (encoder_activation_output): ReLU()\n",
       "    )\n",
       "  )\n",
       "  (head_net): EvolvableDistribution(\n",
       "    (_wrapped): EvolvableMLP(\n",
       "      (model): Sequential(\n",
       "        (actor_linear_layer_1): Linear(in_features=64, out_features=16, bias=True)\n",
       "        (actor_layer_norm_1): LayerNorm((16,), eps=1e-05, elementwise_affine=True)\n",
       "        (actor_activation_1): ReLU()\n",
       "        (actor_linear_layer_output): Linear(in_features=16, out_features=4, bias=True)\n",
       "        (actor_activation_output): Softmax(dim=-1)\n",
       "      )\n",
       "    )\n",
       "  )\n",
       ")"
      ]
     },
     "execution_count": 3,
     "metadata": {},
     "output_type": "execute_result"
    }
   ],
   "source": [
    "actor"
   ]
  },
  {
   "cell_type": "code",
   "execution_count": 4,
   "metadata": {},
   "outputs": [
    {
     "name": "stdout",
     "output_type": "stream",
     "text": [
      "Wrapping mutation method encoder.add_node for StochasticActor\n",
      "Wrapping mutation method add_node for EvolvableMLP\n",
      "Recreating network after mutation: add_node\n"
     ]
    },
    {
     "data": {
      "text/plain": [
       "{'hidden_layer': 0, 'numb_new_nodes': 32}"
      ]
     },
     "execution_count": 4,
     "metadata": {},
     "output_type": "execute_result"
    }
   ],
   "source": [
    "getattr(actor, \"encoder.add_node\")()"
   ]
  },
  {
   "cell_type": "code",
   "execution_count": 5,
   "metadata": {},
   "outputs": [
    {
     "data": {
      "text/plain": [
       "StochasticActor(\n",
       "  (encoder): EvolvableMLP(\n",
       "    (model): Sequential(\n",
       "      (encoder_linear_layer_1): Linear(in_features=4, out_features=96, bias=True)\n",
       "      (encoder_layer_norm_1): LayerNorm((96,), eps=1e-05, elementwise_affine=True)\n",
       "      (encoder_activation_1): ReLU()\n",
       "      (encoder_linear_layer_output): Linear(in_features=96, out_features=64, bias=True)\n",
       "      (encoder_activation_output): ReLU()\n",
       "    )\n",
       "  )\n",
       "  (head_net): EvolvableDistribution(\n",
       "    (_wrapped): EvolvableMLP(\n",
       "      (model): Sequential(\n",
       "        (actor_linear_layer_1): Linear(in_features=64, out_features=16, bias=True)\n",
       "        (actor_layer_norm_1): LayerNorm((16,), eps=1e-05, elementwise_affine=True)\n",
       "        (actor_activation_1): ReLU()\n",
       "        (actor_linear_layer_output): Linear(in_features=16, out_features=4, bias=True)\n",
       "        (actor_activation_output): Softmax(dim=-1)\n",
       "      )\n",
       "    )\n",
       "  )\n",
       ")"
      ]
     },
     "execution_count": 5,
     "metadata": {},
     "output_type": "execute_result"
    }
   ],
   "source": [
    "actor"
   ]
  },
  {
   "cell_type": "code",
   "execution_count": 3,
   "metadata": {},
   "outputs": [],
   "source": [
    "pop = DQN.population(4, observation_space=img_space, action_space=spaces.Discrete(4))"
   ]
  },
  {
   "cell_type": "code",
   "execution_count": 3,
   "metadata": {},
   "outputs": [],
   "source": [
    "from agilerl.modules.cnn import EvolvableCNN\n",
    "from agilerl.hpo.mutation import Mutations"
   ]
  },
  {
   "cell_type": "code",
   "execution_count": 3,
   "metadata": {},
   "outputs": [],
   "source": [
    "from accelerate import Accelerator\n",
    "\n",
    "with open('configs/training/maddpg.yaml') as f:\n",
    "    config = yaml.safe_load(f)\n",
    "\n",
    "vector_actions = spaces.Box(low=-1, high=1, shape=(4,), dtype='float32')\n",
    "discrete_actions = spaces.Discrete(4)\n",
    "\n",
    "# accelerator = Accelerator()\n",
    "INIT_HP = config[\"INIT_HP\"]\n",
    "MUTATION_PARAMS = config[\"MUTATION_PARAMS\"]\n",
    "INIT_HP['AGENT_IDS'] = [f'agent_{i}' for i in range(4)]\n",
    "n_agents = 4\n",
    "agent_pop = create_population(\n",
    "    algo=INIT_HP[\"ALGO\"],\n",
    "    observation_space=[dict_space for _ in range(n_agents)],\n",
    "    action_space=[discrete_actions for _ in range(n_agents)],\n",
    "    net_config={'encoder_config': multi_input_config},\n",
    "    INIT_HP=INIT_HP,\n",
    "    population_size=INIT_HP[\"POP_SIZE\"],\n",
    "    num_envs=INIT_HP[\"NUM_ENVS\"],\n",
    "    device=device,\n",
    "    # accelerator=accelerator\n",
    ")"
   ]
  },
  {
   "cell_type": "code",
   "execution_count": 4,
   "metadata": {},
   "outputs": [],
   "source": [
    "ind = agent_pop[0]"
   ]
  },
  {
   "cell_type": "code",
   "execution_count": 6,
   "metadata": {},
   "outputs": [
    {
     "data": {
      "text/plain": [
       "<agilerl.algorithms.maddpg.MADDPG at 0x7f10d2bb7950>"
      ]
     },
     "execution_count": 6,
     "metadata": {},
     "output_type": "execute_result"
    }
   ],
   "source": [
    "ind.clone()"
   ]
  },
  {
   "cell_type": "code",
   "execution_count": 5,
   "metadata": {},
   "outputs": [
    {
     "data": {
      "text/plain": [
       "OptimizerWrapper(\n",
       "    optimizer=Adam,\n",
       "    lr=0.0001,\n",
       "    networks=['actor'],\n",
       "    optimizer_kwargs={}\n",
       "    multiagent=False\n",
       ")"
      ]
     },
     "execution_count": 5,
     "metadata": {},
     "output_type": "execute_result"
    }
   ],
   "source": [
    "ind = agent_pop[0]\n",
    "ind.optimizer"
   ]
  },
  {
   "cell_type": "code",
   "execution_count": 5,
   "metadata": {},
   "outputs": [
    {
     "name": "stdout",
     "output_type": "stream",
     "text": [
      "[OptimizerConfig(name='optimizer', networks=['actor'], lr='lr', optimizer_cls='Adam', optimizer_kwargs={}, multiagent=False)]\n",
      "[OptimizerConfig(name='optimizer', networks=['actor'], lr='lr', optimizer_cls='Adam', optimizer_kwargs={}, multiagent=False)]\n",
      "[OptimizerConfig(name='optimizer', networks=['actor'], lr='lr', optimizer_cls='Adam', optimizer_kwargs={}, multiagent=False)]\n",
      "[OptimizerConfig(name='optimizer', networks=['actor'], lr='lr', optimizer_cls='Adam', optimizer_kwargs={}, multiagent=False)]\n"
     ]
    }
   ],
   "source": [
    "mutations = Mutations(\n",
    "    \"test\",\n",
    "    0,\n",
    "    1,\n",
    "    0.5,\n",
    "    0,\n",
    "    0,\n",
    "    0,\n",
    "    0.5,\n",
    "    agent_ids=INIT_HP['AGENT_IDS'],\n",
    "    device=device\n",
    ")\n",
    "new_population = [agent.clone(wrap=False) for agent in agent_pop]\n",
    "mutated_population = [\n",
    "    mutations.architecture_mutate(agent) for agent in new_population\n",
    "]"
   ]
  },
  {
   "cell_type": "code",
   "execution_count": 9,
   "metadata": {},
   "outputs": [
    {
     "name": "stdout",
     "output_type": "stream",
     "text": [
      "0.001\n",
      "2048\n",
      "128\n"
     ]
    }
   ],
   "source": [
    "ind = agent_pop[0]\n",
    "print(ind.lr)\n",
    "print(ind.learn_step)\n",
    "print(ind.batch_size)"
   ]
  }
 ],
 "metadata": {
  "kernelspec": {
   "display_name": "agilerl",
   "language": "python",
   "name": "python3"
  },
  "language_info": {
   "codemirror_mode": {
    "name": "ipython",
    "version": 3
   },
   "file_extension": ".py",
   "mimetype": "text/x-python",
   "name": "python",
   "nbconvert_exporter": "python",
   "pygments_lexer": "ipython3",
   "version": "3.11.10"
  }
 },
 "nbformat": 4,
 "nbformat_minor": 2
}
